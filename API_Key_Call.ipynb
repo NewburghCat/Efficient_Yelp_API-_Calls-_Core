{
 "cells": [
  {
   "cell_type": "code",
   "execution_count": 1,
   "id": "65f5a8c3",
   "metadata": {},
   "outputs": [],
   "source": [
    "# Standard Imports\n",
    "import numpy as np\n",
    "import pandas as pd\n",
    "import matplotlib.pyplot as plt\n",
    "import seaborn as sns\n",
    "\n",
    "# Additional Imports\n",
    "import os, json, math, time\n",
    "from yelpapi import YelpAPI\n",
    "from tqdm.notebook import tqdm_notebook"
   ]
  },
  {
   "cell_type": "code",
   "execution_count": 2,
   "id": "063e787b",
   "metadata": {},
   "outputs": [
    {
     "name": "stdout",
     "output_type": "stream",
     "text": [
      "Requirement already satisfied: tqdm in /Users/christinab/opt/anaconda3/envs/dojo-env/lib/python3.8/site-packages (4.64.1)\r\n"
     ]
    }
   ],
   "source": [
    "# Install tmdbsimple (only need to run once)\n",
    "!pip install tqdm"
   ]
  },
  {
   "cell_type": "code",
   "execution_count": 3,
   "id": "d9aea5c1",
   "metadata": {},
   "outputs": [],
   "source": [
    "# Load API Credentials\n",
    "with open('/Users/christinab/.secret/yelp_api.json') as f:   #use your path here!\n",
    "    login = json.load(f)\n",
    "# Instantiate YelpAPI Variable\n",
    "yelp_api = YelpAPI(login['API Key'], timeout_s=5.0)"
   ]
  },
  {
   "cell_type": "markdown",
   "id": "a57ce601",
   "metadata": {},
   "source": [
    "### Define Search"
   ]
  },
  {
   "cell_type": "code",
   "execution_count": 4,
   "id": "3672dc6c",
   "metadata": {},
   "outputs": [],
   "source": [
    "# set API call parameters \n",
    "location = 'New York, NY 10550'\n",
    "term = 'Chinese'"
   ]
  },
  {
   "cell_type": "code",
   "execution_count": 5,
   "id": "4eb2d443",
   "metadata": {},
   "outputs": [
    {
     "data": {
      "text/plain": [
       "'Data/results_in_progress_NY_Chinese.json'"
      ]
     },
     "execution_count": 5,
     "metadata": {},
     "output_type": "execute_result"
    }
   ],
   "source": [
    "# create the JSON data folder \n",
    "JSON_FILE = \"Data/results_in_progress_NY_Chinese.json\"\n",
    "JSON_FILE"
   ]
  },
  {
   "cell_type": "code",
   "execution_count": 6,
   "id": "ea8f1a51",
   "metadata": {},
   "outputs": [
    {
     "name": "stdout",
     "output_type": "stream",
     "text": [
      "[i] Data/results_in_progress_NY_Chinese.json not found. Saving empty list to file.\n"
     ]
    }
   ],
   "source": [
    "## Check if JSON_FILE exists\n",
    "file_exists = os.path.isfile(JSON_FILE)\n",
    "## If it does not exist: \n",
    "if file_exists == False:\n",
    "    \n",
    "    ## CREATE ANY NEEDED FOLDERS\n",
    "    # Get the Folder Name only\n",
    "    folder = os.path.dirname(JSON_FILE)\n",
    "    ## If JSON_FILE included a folder:\n",
    "    if len(folder)>0:\n",
    "        # create the folder\n",
    "        os.makedirs(folder,exist_ok=True)\n",
    "        \n",
    "        \n",
    "    ## INFORM USER AND SAVE EMPTY LIST\n",
    "    print(f'[i] {JSON_FILE} not found. Saving empty list to file.')\n",
    "    \n",
    "    \n",
    "    # save an empty list\n",
    "    with open(JSON_FILE,'w') as f:\n",
    "        json.dump([],f)  \n",
    "# If it exists, inform user\n",
    "else:\n",
    "    print(f\"[i] {JSON_FILE} already exists.\")\n"
   ]
  },
  {
   "cell_type": "code",
   "execution_count": 7,
   "id": "19d7e9b2",
   "metadata": {},
   "outputs": [
    {
     "name": "stdout",
     "output_type": "stream",
     "text": [
      "- 0 previous results found.\n"
     ]
    }
   ],
   "source": [
    "## Load previous results and use len of results for offset\n",
    "with open(JSON_FILE,'r') as f:\n",
    "    previous_results = json.load(f)\n",
    "    \n",
    "## set offset based on previous results\n",
    "n_results = len(previous_results)\n",
    "print(f'- {n_results} previous results found.')\n"
   ]
  },
  {
   "cell_type": "code",
   "execution_count": 10,
   "id": "d011f0a5",
   "metadata": {},
   "outputs": [
    {
     "data": {
      "text/plain": [
       "dict_keys(['businesses', 'total', 'region'])"
      ]
     },
     "execution_count": 10,
     "metadata": {},
     "output_type": "execute_result"
    }
   ],
   "source": [
    "# use our yelp_api variable's search_query method to perform our API call\n",
    "results = yelp_api.search_query(location='New York, NY 10019',\n",
    "                                term='Chinese',\n",
    "                               offset=n_results)\n",
    "results.keys()"
   ]
  },
  {
   "cell_type": "code",
   "execution_count": 11,
   "id": "73170fc0",
   "metadata": {},
   "outputs": [
    {
     "data": {
      "text/plain": [
       "694"
      ]
     },
     "execution_count": 11,
     "metadata": {},
     "output_type": "execute_result"
    }
   ],
   "source": [
    "## How many results total?\n",
    "total_results = results['total']\n",
    "total_results\n"
   ]
  },
  {
   "cell_type": "code",
   "execution_count": 12,
   "id": "31064367",
   "metadata": {},
   "outputs": [
    {
     "data": {
      "text/plain": [
       "20"
      ]
     },
     "execution_count": 12,
     "metadata": {},
     "output_type": "execute_result"
    }
   ],
   "source": [
    "## How many did we get the details for?\n",
    "results_per_page = len(results['businesses'])\n",
    "results_per_page"
   ]
  },
  {
   "cell_type": "code",
   "execution_count": 13,
   "id": "da298051",
   "metadata": {},
   "outputs": [
    {
     "data": {
      "text/plain": [
       "35"
      ]
     },
     "execution_count": 13,
     "metadata": {},
     "output_type": "execute_result"
    }
   ],
   "source": [
    "# Import additional packages for controlling our loop\n",
    "import time, math\n",
    "# Use math.ceil to round up for the total number of pages of results.\n",
    "n_pages = math.ceil((results['total']-n_results)/ results_per_page)\n",
    "n_pages"
   ]
  },
  {
   "cell_type": "code",
   "execution_count": 14,
   "id": "73a1c35b",
   "metadata": {},
   "outputs": [],
   "source": [
    "# join new results with old list with extend and save to file\n",
    "previous_results.extend(results['businesses'])  \n",
    "with open(JSON_FILE,'w') as f:\n",
    "     json.dump(previous_results,f)\n"
   ]
  },
  {
   "cell_type": "code",
   "execution_count": 15,
   "id": "c41a78a3",
   "metadata": {},
   "outputs": [
    {
     "name": "stdout",
     "output_type": "stream",
     "text": [
      "Requirement already satisfied: tqdm in /Users/christinab/opt/anaconda3/envs/dojo-env/lib/python3.8/site-packages (4.64.1)\r\n"
     ]
    }
   ],
   "source": [
    "# set up a progress bar for your loop \n",
    "!pip install tqdm"
   ]
  },
  {
   "cell_type": "code",
   "execution_count": 16,
   "id": "9e3502d4",
   "metadata": {},
   "outputs": [
    {
     "data": {
      "application/vnd.jupyter.widget-view+json": {
       "model_id": "ffd587f91ef3490ca32df82080e88753",
       "version_major": 2,
       "version_minor": 0
      },
      "text/plain": [
       "  0%|          | 0/35 [00:00<?, ?it/s]"
      ]
     },
     "metadata": {},
     "output_type": "display_data"
    }
   ],
   "source": [
    "from tqdm.notebook import tqdm_notebook\n",
    "import time\n",
    "for i in tqdm_notebook(range(n_pages)):\n",
    "    # adds 200 ms pause\n",
    "    time.sleep(.2) \n"
   ]
  },
  {
   "cell_type": "code",
   "execution_count": 17,
   "id": "7f40487a",
   "metadata": {},
   "outputs": [
    {
     "data": {
      "application/vnd.jupyter.widget-view+json": {
       "model_id": "6a3201934c634e95a6f75e13547e0385",
       "version_major": 2,
       "version_minor": 0
      },
      "text/plain": [
       "  0%|          | 0/35 [00:00<?, ?it/s]"
      ]
     },
     "metadata": {},
     "output_type": "display_data"
    }
   ],
   "source": [
    "for i in tqdm_notebook( range(1,n_pages+1)):\n",
    "    \n",
    "    ## Read in results in progress file and check the length\n",
    "    with open(JSON_FILE, 'r') as f:\n",
    "        previous_results = json.load(f)\n",
    "    ## save number of results for to use as offset\n",
    "    n_results = len(previous_results)\n",
    "    ## use n_results as the OFFSET \n",
    "    results = yelp_api.search_query(location='Mount Vernon, NY 10002',\n",
    "                                    term='Chinese', \n",
    "                                    offset=n_results)\n",
    "    \n",
    "    ## append new results and save to file\n",
    "    previous_results.extend(results['businesses'])\n",
    "    \n",
    "    with open(JSON_FILE,'w') as f:\n",
    "        json.dump(previous_results,f)\n",
    "    \n",
    "    # add a 200ms pause\n",
    "    time.sleep(.2)\n",
    "\n"
   ]
  },
  {
   "cell_type": "code",
   "execution_count": 18,
   "id": "c69104c8",
   "metadata": {},
   "outputs": [
    {
     "data": {
      "text/html": [
       "<div>\n",
       "<style scoped>\n",
       "    .dataframe tbody tr th:only-of-type {\n",
       "        vertical-align: middle;\n",
       "    }\n",
       "\n",
       "    .dataframe tbody tr th {\n",
       "        vertical-align: top;\n",
       "    }\n",
       "\n",
       "    .dataframe thead th {\n",
       "        text-align: right;\n",
       "    }\n",
       "</style>\n",
       "<table border=\"1\" class=\"dataframe\">\n",
       "  <thead>\n",
       "    <tr style=\"text-align: right;\">\n",
       "      <th></th>\n",
       "      <th>id</th>\n",
       "      <th>alias</th>\n",
       "      <th>name</th>\n",
       "      <th>image_url</th>\n",
       "      <th>is_closed</th>\n",
       "      <th>url</th>\n",
       "      <th>review_count</th>\n",
       "      <th>categories</th>\n",
       "      <th>rating</th>\n",
       "      <th>coordinates</th>\n",
       "      <th>transactions</th>\n",
       "      <th>location</th>\n",
       "      <th>phone</th>\n",
       "      <th>display_phone</th>\n",
       "      <th>distance</th>\n",
       "      <th>price</th>\n",
       "    </tr>\n",
       "  </thead>\n",
       "  <tbody>\n",
       "    <tr>\n",
       "      <th>0</th>\n",
       "      <td>XsXLVWr1UZWVhKThNvNiaA</td>\n",
       "      <td>blue-willow-夜来湘-new-york-2</td>\n",
       "      <td>Blue Willow 夜来湘</td>\n",
       "      <td>https://s3-media2.fl.yelpcdn.com/bphoto/1E59vO...</td>\n",
       "      <td>False</td>\n",
       "      <td>https://www.yelp.com/biz/blue-willow-%E5%A4%9C...</td>\n",
       "      <td>668</td>\n",
       "      <td>[{'alias': 'szechuan', 'title': 'Szechuan'}]</td>\n",
       "      <td>4.5</td>\n",
       "      <td>{'latitude': 40.76292, 'longitude': -73.976546}</td>\n",
       "      <td>[pickup, delivery]</td>\n",
       "      <td>{'address1': '40 W 56th St', 'address2': None,...</td>\n",
       "      <td>+12122132299</td>\n",
       "      <td>(212) 213-2299</td>\n",
       "      <td>1037.884778</td>\n",
       "      <td>NaN</td>\n",
       "    </tr>\n",
       "    <tr>\n",
       "      <th>1</th>\n",
       "      <td>bVkjBJlAIwKAj9Aw1KVWjA</td>\n",
       "      <td>dim-sum-palace-new-york-8</td>\n",
       "      <td>Dim Sum Palace</td>\n",
       "      <td>https://s3-media2.fl.yelpcdn.com/bphoto/k5mi8H...</td>\n",
       "      <td>False</td>\n",
       "      <td>https://www.yelp.com/biz/dim-sum-palace-new-yo...</td>\n",
       "      <td>1585</td>\n",
       "      <td>[{'alias': 'dimsum', 'title': 'Dim Sum'}, {'al...</td>\n",
       "      <td>4.0</td>\n",
       "      <td>{'latitude': 40.76015, 'longitude': -73.9893699}</td>\n",
       "      <td>[pickup, delivery]</td>\n",
       "      <td>{'address1': '334 W 46th St', 'address2': None...</td>\n",
       "      <td>+16468611910</td>\n",
       "      <td>(646) 861-1910</td>\n",
       "      <td>620.515163</td>\n",
       "      <td>$$</td>\n",
       "    </tr>\n",
       "    <tr>\n",
       "      <th>2</th>\n",
       "      <td>lQ8Fzgji9qmgRXkFcvAsVQ</td>\n",
       "      <td>chong-qing-xiao-mian-new-york-2</td>\n",
       "      <td>Chong Qing Xiao Mian</td>\n",
       "      <td>https://s3-media2.fl.yelpcdn.com/bphoto/9XObpV...</td>\n",
       "      <td>False</td>\n",
       "      <td>https://www.yelp.com/biz/chong-qing-xiao-mian-...</td>\n",
       "      <td>336</td>\n",
       "      <td>[{'alias': 'chinese', 'title': 'Chinese'}, {'a...</td>\n",
       "      <td>4.0</td>\n",
       "      <td>{'latitude': 40.76513, 'longitude': -73.98753}</td>\n",
       "      <td>[pickup, delivery]</td>\n",
       "      <td>{'address1': '796 9th Ave', 'address2': '', 'a...</td>\n",
       "      <td>+12125828866</td>\n",
       "      <td>(212) 582-8866</td>\n",
       "      <td>94.299181</td>\n",
       "      <td>$$</td>\n",
       "    </tr>\n",
       "    <tr>\n",
       "      <th>3</th>\n",
       "      <td>EmJ7rfmv2y6lQZxgA8U__g</td>\n",
       "      <td>red-peony-chinese-cuisine-new-york-4</td>\n",
       "      <td>Red Peony Chinese Cuisine</td>\n",
       "      <td>https://s3-media4.fl.yelpcdn.com/bphoto/bD0jgT...</td>\n",
       "      <td>False</td>\n",
       "      <td>https://www.yelp.com/biz/red-peony-chinese-cui...</td>\n",
       "      <td>527</td>\n",
       "      <td>[{'alias': 'shanghainese', 'title': 'Shanghain...</td>\n",
       "      <td>4.5</td>\n",
       "      <td>{'latitude': 40.76278, 'longitude': -73.97589}</td>\n",
       "      <td>[delivery, pickup]</td>\n",
       "      <td>{'address1': '24 W 56th St', 'address2': None,...</td>\n",
       "      <td>+12123808883</td>\n",
       "      <td>(212) 380-8883</td>\n",
       "      <td>1092.523339</td>\n",
       "      <td>$$</td>\n",
       "    </tr>\n",
       "    <tr>\n",
       "      <th>4</th>\n",
       "      <td>Y92VtOkTZ6BirkJbUKCMOw</td>\n",
       "      <td>rong-cheng-house-new-york-4</td>\n",
       "      <td>Rong Cheng House</td>\n",
       "      <td>https://s3-media4.fl.yelpcdn.com/bphoto/vM4jaU...</td>\n",
       "      <td>False</td>\n",
       "      <td>https://www.yelp.com/biz/rong-cheng-house-new-...</td>\n",
       "      <td>119</td>\n",
       "      <td>[{'alias': 'szechuan', 'title': 'Szechuan'}]</td>\n",
       "      <td>4.0</td>\n",
       "      <td>{'latitude': 40.76572, 'longitude': -73.98286}</td>\n",
       "      <td>[pickup, delivery]</td>\n",
       "      <td>{'address1': '242 W 56th St', 'address2': '', ...</td>\n",
       "      <td>+12122652226</td>\n",
       "      <td>(212) 265-2226</td>\n",
       "      <td>443.058683</td>\n",
       "      <td>$$</td>\n",
       "    </tr>\n",
       "  </tbody>\n",
       "</table>\n",
       "</div>"
      ],
      "text/plain": [
       "                       id                                 alias  \\\n",
       "0  XsXLVWr1UZWVhKThNvNiaA            blue-willow-夜来湘-new-york-2   \n",
       "1  bVkjBJlAIwKAj9Aw1KVWjA             dim-sum-palace-new-york-8   \n",
       "2  lQ8Fzgji9qmgRXkFcvAsVQ       chong-qing-xiao-mian-new-york-2   \n",
       "3  EmJ7rfmv2y6lQZxgA8U__g  red-peony-chinese-cuisine-new-york-4   \n",
       "4  Y92VtOkTZ6BirkJbUKCMOw           rong-cheng-house-new-york-4   \n",
       "\n",
       "                        name  \\\n",
       "0            Blue Willow 夜来湘   \n",
       "1             Dim Sum Palace   \n",
       "2       Chong Qing Xiao Mian   \n",
       "3  Red Peony Chinese Cuisine   \n",
       "4           Rong Cheng House   \n",
       "\n",
       "                                           image_url  is_closed  \\\n",
       "0  https://s3-media2.fl.yelpcdn.com/bphoto/1E59vO...      False   \n",
       "1  https://s3-media2.fl.yelpcdn.com/bphoto/k5mi8H...      False   \n",
       "2  https://s3-media2.fl.yelpcdn.com/bphoto/9XObpV...      False   \n",
       "3  https://s3-media4.fl.yelpcdn.com/bphoto/bD0jgT...      False   \n",
       "4  https://s3-media4.fl.yelpcdn.com/bphoto/vM4jaU...      False   \n",
       "\n",
       "                                                 url  review_count  \\\n",
       "0  https://www.yelp.com/biz/blue-willow-%E5%A4%9C...           668   \n",
       "1  https://www.yelp.com/biz/dim-sum-palace-new-yo...          1585   \n",
       "2  https://www.yelp.com/biz/chong-qing-xiao-mian-...           336   \n",
       "3  https://www.yelp.com/biz/red-peony-chinese-cui...           527   \n",
       "4  https://www.yelp.com/biz/rong-cheng-house-new-...           119   \n",
       "\n",
       "                                          categories  rating  \\\n",
       "0       [{'alias': 'szechuan', 'title': 'Szechuan'}]     4.5   \n",
       "1  [{'alias': 'dimsum', 'title': 'Dim Sum'}, {'al...     4.0   \n",
       "2  [{'alias': 'chinese', 'title': 'Chinese'}, {'a...     4.0   \n",
       "3  [{'alias': 'shanghainese', 'title': 'Shanghain...     4.5   \n",
       "4       [{'alias': 'szechuan', 'title': 'Szechuan'}]     4.0   \n",
       "\n",
       "                                        coordinates        transactions  \\\n",
       "0   {'latitude': 40.76292, 'longitude': -73.976546}  [pickup, delivery]   \n",
       "1  {'latitude': 40.76015, 'longitude': -73.9893699}  [pickup, delivery]   \n",
       "2    {'latitude': 40.76513, 'longitude': -73.98753}  [pickup, delivery]   \n",
       "3    {'latitude': 40.76278, 'longitude': -73.97589}  [delivery, pickup]   \n",
       "4    {'latitude': 40.76572, 'longitude': -73.98286}  [pickup, delivery]   \n",
       "\n",
       "                                            location         phone  \\\n",
       "0  {'address1': '40 W 56th St', 'address2': None,...  +12122132299   \n",
       "1  {'address1': '334 W 46th St', 'address2': None...  +16468611910   \n",
       "2  {'address1': '796 9th Ave', 'address2': '', 'a...  +12125828866   \n",
       "3  {'address1': '24 W 56th St', 'address2': None,...  +12123808883   \n",
       "4  {'address1': '242 W 56th St', 'address2': '', ...  +12122652226   \n",
       "\n",
       "    display_phone     distance price  \n",
       "0  (212) 213-2299  1037.884778   NaN  \n",
       "1  (646) 861-1910   620.515163    $$  \n",
       "2  (212) 582-8866    94.299181    $$  \n",
       "3  (212) 380-8883  1092.523339    $$  \n",
       "4  (212) 265-2226   443.058683    $$  "
      ]
     },
     "metadata": {},
     "output_type": "display_data"
    },
    {
     "data": {
      "text/html": [
       "<div>\n",
       "<style scoped>\n",
       "    .dataframe tbody tr th:only-of-type {\n",
       "        vertical-align: middle;\n",
       "    }\n",
       "\n",
       "    .dataframe tbody tr th {\n",
       "        vertical-align: top;\n",
       "    }\n",
       "\n",
       "    .dataframe thead th {\n",
       "        text-align: right;\n",
       "    }\n",
       "</style>\n",
       "<table border=\"1\" class=\"dataframe\">\n",
       "  <thead>\n",
       "    <tr style=\"text-align: right;\">\n",
       "      <th></th>\n",
       "      <th>id</th>\n",
       "      <th>alias</th>\n",
       "      <th>name</th>\n",
       "      <th>image_url</th>\n",
       "      <th>is_closed</th>\n",
       "      <th>url</th>\n",
       "      <th>review_count</th>\n",
       "      <th>categories</th>\n",
       "      <th>rating</th>\n",
       "      <th>coordinates</th>\n",
       "      <th>transactions</th>\n",
       "      <th>location</th>\n",
       "      <th>phone</th>\n",
       "      <th>display_phone</th>\n",
       "      <th>distance</th>\n",
       "      <th>price</th>\n",
       "    </tr>\n",
       "  </thead>\n",
       "  <tbody>\n",
       "    <tr>\n",
       "      <th>422</th>\n",
       "      <td>_2eGAao4W3ww4vNB3RQiBA</td>\n",
       "      <td>salad-box-new-york-4</td>\n",
       "      <td>Salad Box</td>\n",
       "      <td>https://s3-media2.fl.yelpcdn.com/bphoto/r69gch...</td>\n",
       "      <td>False</td>\n",
       "      <td>https://www.yelp.com/biz/salad-box-new-york-4?...</td>\n",
       "      <td>79</td>\n",
       "      <td>[{'alias': 'salad', 'title': 'Salad'}, {'alias...</td>\n",
       "      <td>3.5</td>\n",
       "      <td>{'latitude': 40.71328, 'longitude': -74.00958}</td>\n",
       "      <td>[pickup, delivery]</td>\n",
       "      <td>{'address1': '44 Park Pl', 'address2': '', 'ad...</td>\n",
       "      <td>+16092932658</td>\n",
       "      <td>(609) 293-2658</td>\n",
       "      <td>1744.003157</td>\n",
       "      <td>NaN</td>\n",
       "    </tr>\n",
       "    <tr>\n",
       "      <th>423</th>\n",
       "      <td>TGa19wemPHqIwQCu08C0GQ</td>\n",
       "      <td>east-lake-express-new-york</td>\n",
       "      <td>East Lake Express</td>\n",
       "      <td></td>\n",
       "      <td>False</td>\n",
       "      <td>https://www.yelp.com/biz/east-lake-express-new...</td>\n",
       "      <td>2</td>\n",
       "      <td>[{'alias': 'chinese', 'title': 'Chinese'}]</td>\n",
       "      <td>1.5</td>\n",
       "      <td>{'latitude': 40.70713, 'longitude': -74.00494}</td>\n",
       "      <td>[]</td>\n",
       "      <td>{'address1': '135 John St', 'address2': '', 'a...</td>\n",
       "      <td>+12127978939</td>\n",
       "      <td>(212) 797-8939</td>\n",
       "      <td>1751.951295</td>\n",
       "      <td>$</td>\n",
       "    </tr>\n",
       "    <tr>\n",
       "      <th>424</th>\n",
       "      <td>7IeZwAZI1o2orL8_Up3iJg</td>\n",
       "      <td>plump-dumpling-new-york-2</td>\n",
       "      <td>Plump Dumpling</td>\n",
       "      <td></td>\n",
       "      <td>False</td>\n",
       "      <td>https://www.yelp.com/biz/plump-dumpling-new-yo...</td>\n",
       "      <td>2</td>\n",
       "      <td>[{'alias': 'chinese', 'title': 'Chinese'}, {'a...</td>\n",
       "      <td>3.0</td>\n",
       "      <td>{'latitude': 40.7302739471197, 'longitude': -7...</td>\n",
       "      <td>[pickup]</td>\n",
       "      <td>{'address1': '299 E 11th St', 'address2': '', ...</td>\n",
       "      <td>+12122542868</td>\n",
       "      <td>(212) 254-2868</td>\n",
       "      <td>1412.775320</td>\n",
       "      <td>NaN</td>\n",
       "    </tr>\n",
       "    <tr>\n",
       "      <th>425</th>\n",
       "      <td>7Wj_qQpxGGUPSkwA_Jg2lQ</td>\n",
       "      <td>8a-sakura-sushi-new-york</td>\n",
       "      <td>8A Sakura Sushi</td>\n",
       "      <td></td>\n",
       "      <td>False</td>\n",
       "      <td>https://www.yelp.com/biz/8a-sakura-sushi-new-y...</td>\n",
       "      <td>1</td>\n",
       "      <td>[{'alias': 'chinese', 'title': 'Chinese'}]</td>\n",
       "      <td>1.0</td>\n",
       "      <td>{'latitude': 40.713212415576, 'longitude': -74...</td>\n",
       "      <td>[pickup, delivery]</td>\n",
       "      <td>{'address1': '8 Murray St', 'address2': '', 'a...</td>\n",
       "      <td>+12123469788</td>\n",
       "      <td>(212) 346-9788</td>\n",
       "      <td>1621.809734</td>\n",
       "      <td>NaN</td>\n",
       "    </tr>\n",
       "    <tr>\n",
       "      <th>426</th>\n",
       "      <td>OPOmqhGguJY8W5LyenzQAQ</td>\n",
       "      <td>vivi-bubble-tea-new-york-10</td>\n",
       "      <td>ViVi Bubble Tea</td>\n",
       "      <td>https://s3-media3.fl.yelpcdn.com/bphoto/zHlvYT...</td>\n",
       "      <td>False</td>\n",
       "      <td>https://www.yelp.com/biz/vivi-bubble-tea-new-y...</td>\n",
       "      <td>151</td>\n",
       "      <td>[{'alias': 'taiwanese', 'title': 'Taiwanese'},...</td>\n",
       "      <td>3.5</td>\n",
       "      <td>{'latitude': 40.732567, 'longitude': -73.986229}</td>\n",
       "      <td>[pickup, delivery]</td>\n",
       "      <td>{'address1': '226 E 14th St', 'address2': None...</td>\n",
       "      <td>+12127778988</td>\n",
       "      <td>(212) 777-8988</td>\n",
       "      <td>1667.741121</td>\n",
       "      <td>$</td>\n",
       "    </tr>\n",
       "  </tbody>\n",
       "</table>\n",
       "</div>"
      ],
      "text/plain": [
       "                         id                        alias               name  \\\n",
       "422  _2eGAao4W3ww4vNB3RQiBA         salad-box-new-york-4          Salad Box   \n",
       "423  TGa19wemPHqIwQCu08C0GQ   east-lake-express-new-york  East Lake Express   \n",
       "424  7IeZwAZI1o2orL8_Up3iJg    plump-dumpling-new-york-2     Plump Dumpling   \n",
       "425  7Wj_qQpxGGUPSkwA_Jg2lQ     8a-sakura-sushi-new-york    8A Sakura Sushi   \n",
       "426  OPOmqhGguJY8W5LyenzQAQ  vivi-bubble-tea-new-york-10    ViVi Bubble Tea   \n",
       "\n",
       "                                             image_url  is_closed  \\\n",
       "422  https://s3-media2.fl.yelpcdn.com/bphoto/r69gch...      False   \n",
       "423                                                         False   \n",
       "424                                                         False   \n",
       "425                                                         False   \n",
       "426  https://s3-media3.fl.yelpcdn.com/bphoto/zHlvYT...      False   \n",
       "\n",
       "                                                   url  review_count  \\\n",
       "422  https://www.yelp.com/biz/salad-box-new-york-4?...            79   \n",
       "423  https://www.yelp.com/biz/east-lake-express-new...             2   \n",
       "424  https://www.yelp.com/biz/plump-dumpling-new-yo...             2   \n",
       "425  https://www.yelp.com/biz/8a-sakura-sushi-new-y...             1   \n",
       "426  https://www.yelp.com/biz/vivi-bubble-tea-new-y...           151   \n",
       "\n",
       "                                            categories  rating  \\\n",
       "422  [{'alias': 'salad', 'title': 'Salad'}, {'alias...     3.5   \n",
       "423         [{'alias': 'chinese', 'title': 'Chinese'}]     1.5   \n",
       "424  [{'alias': 'chinese', 'title': 'Chinese'}, {'a...     3.0   \n",
       "425         [{'alias': 'chinese', 'title': 'Chinese'}]     1.0   \n",
       "426  [{'alias': 'taiwanese', 'title': 'Taiwanese'},...     3.5   \n",
       "\n",
       "                                           coordinates        transactions  \\\n",
       "422     {'latitude': 40.71328, 'longitude': -74.00958}  [pickup, delivery]   \n",
       "423     {'latitude': 40.70713, 'longitude': -74.00494}                  []   \n",
       "424  {'latitude': 40.7302739471197, 'longitude': -7...            [pickup]   \n",
       "425  {'latitude': 40.713212415576, 'longitude': -74...  [pickup, delivery]   \n",
       "426   {'latitude': 40.732567, 'longitude': -73.986229}  [pickup, delivery]   \n",
       "\n",
       "                                              location         phone  \\\n",
       "422  {'address1': '44 Park Pl', 'address2': '', 'ad...  +16092932658   \n",
       "423  {'address1': '135 John St', 'address2': '', 'a...  +12127978939   \n",
       "424  {'address1': '299 E 11th St', 'address2': '', ...  +12122542868   \n",
       "425  {'address1': '8 Murray St', 'address2': '', 'a...  +12123469788   \n",
       "426  {'address1': '226 E 14th St', 'address2': None...  +12127778988   \n",
       "\n",
       "      display_phone     distance price  \n",
       "422  (609) 293-2658  1744.003157   NaN  \n",
       "423  (212) 797-8939  1751.951295     $  \n",
       "424  (212) 254-2868  1412.775320   NaN  \n",
       "425  (212) 346-9788  1621.809734   NaN  \n",
       "426  (212) 777-8988  1667.741121     $  "
      ]
     },
     "metadata": {},
     "output_type": "display_data"
    }
   ],
   "source": [
    "# load final results\n",
    "final_df = pd.read_json(JSON_FILE)\n",
    "display(final_df.head(), final_df.tail())"
   ]
  },
  {
   "cell_type": "code",
   "execution_count": 19,
   "id": "07887d4d",
   "metadata": {},
   "outputs": [
    {
     "data": {
      "text/plain": [
       "0"
      ]
     },
     "execution_count": 19,
     "metadata": {},
     "output_type": "execute_result"
    }
   ],
   "source": [
    "# check for duplicates \n",
    "final_df.duplicated(subset='id').sum()"
   ]
  },
  {
   "cell_type": "code",
   "execution_count": 20,
   "id": "d23e619f",
   "metadata": {},
   "outputs": [
    {
     "data": {
      "text/plain": [
       "0"
      ]
     },
     "execution_count": 20,
     "metadata": {},
     "output_type": "execute_result"
    }
   ],
   "source": [
    "# drop duplicated ids and confirm there is no more \n",
    "final_df = final_df.drop_duplicates(subset='id')\n",
    "final_df.duplicated(subset='id').sum()"
   ]
  },
  {
   "cell_type": "code",
   "execution_count": null,
   "id": "865b16da",
   "metadata": {},
   "outputs": [],
   "source": []
  }
 ],
 "metadata": {
  "kernelspec": {
   "display_name": "Python (dojo-env)",
   "language": "python",
   "name": "dojo-env"
  },
  "language_info": {
   "codemirror_mode": {
    "name": "ipython",
    "version": 3
   },
   "file_extension": ".py",
   "mimetype": "text/x-python",
   "name": "python",
   "nbconvert_exporter": "python",
   "pygments_lexer": "ipython3",
   "version": "3.8.13"
  },
  "toc": {
   "base_numbering": 1,
   "nav_menu": {},
   "number_sections": true,
   "sideBar": true,
   "skip_h1_title": false,
   "title_cell": "Table of Contents",
   "title_sidebar": "Contents",
   "toc_cell": false,
   "toc_position": {},
   "toc_section_display": true,
   "toc_window_display": false
  }
 },
 "nbformat": 4,
 "nbformat_minor": 5
}
