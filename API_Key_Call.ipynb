{
 "cells": [
  {
   "cell_type": "code",
   "execution_count": null,
   "id": "65f5a8c3",
   "metadata": {},
   "outputs": [],
   "source": [
    "# Standard Imports\n",
    "import numpy as np\n",
    "import pandas as pd\n",
    "import matplotlib.pyplot as plt\n",
    "import seaborn as sns\n",
    "# Additional Imports\n",
    "import os, json, math, time\n",
    "from yelpapi import YelpAPI\n",
    "from tqdm.notebook import tqdm_notebook\n"
   ]
  },
  {
   "cell_type": "code",
   "execution_count": 2,
   "id": "063e787b",
   "metadata": {},
   "outputs": [
    {
     "name": "stdout",
     "output_type": "stream",
     "text": [
      "Requirement already satisfied: tqdm in /Users/christinab/opt/anaconda3/envs/dojo-env/lib/python3.8/site-packages (4.64.1)\r\n"
     ]
    }
   ],
   "source": [
    "# Install tmdbsimple (only need to run once)\n",
    "!pip install tqdm"
   ]
  },
  {
   "cell_type": "code",
   "execution_count": 5,
   "id": "d9aea5c1",
   "metadata": {},
   "outputs": [],
   "source": [
    "# Load API Credentials\n",
    "with open('/Users/christinab/.secret/yelp_api.json') as f:   #use your path here!\n",
    "    login = json.load(f)\n",
    "# Instantiate YelpAPI Variable\n",
    "yelp_api = YelpAPI(login['API Key'], timeout_s=5.0)"
   ]
  },
  {
   "cell_type": "markdown",
   "id": "a57ce601",
   "metadata": {},
   "source": [
    "### Define Search"
   ]
  },
  {
   "cell_type": "code",
   "execution_count": 30,
   "id": "3672dc6c",
   "metadata": {},
   "outputs": [],
   "source": [
    "# set API call parameters \n",
    "location = 'New York, NY 10002'\n",
    "term = 'Indian'"
   ]
  },
  {
   "cell_type": "code",
   "execution_count": 31,
   "id": "4eb2d443",
   "metadata": {},
   "outputs": [
    {
     "data": {
      "text/plain": [
       "'Data/results_in_progress_NY_Indian.json'"
      ]
     },
     "execution_count": 31,
     "metadata": {},
     "output_type": "execute_result"
    }
   ],
   "source": [
    "# create the JSON data folder \n",
    "JSON_FILE = \"Data/results_in_progress_NY_Indian.json\"\n",
    "JSON_FILE"
   ]
  },
  {
   "cell_type": "code",
   "execution_count": 32,
   "id": "ea8f1a51",
   "metadata": {},
   "outputs": [
    {
     "name": "stdout",
     "output_type": "stream",
     "text": [
      "[i] Data/results_in_progress_NY_Indian.json already exists.\n"
     ]
    }
   ],
   "source": [
    "## Check if JSON_FILE exists\n",
    "file_exists = os.path.isfile(JSON_FILE)\n",
    "## If it does not exist: \n",
    "if file_exists == False:\n",
    "    \n",
    "    ## CREATE ANY NEEDED FOLDERS\n",
    "    # Get the Folder Name only\n",
    "    folder = os.path.dirname(JSON_FILE)\n",
    "    ## If JSON_FILE included a folder:\n",
    "    if len(folder)>0:\n",
    "        # create the folder\n",
    "        os.makedirs(folder,exist_ok=True)\n",
    "        \n",
    "        \n",
    "    ## INFORM USER AND SAVE EMPTY LIST\n",
    "    print(f'[i] {JSON_FILE} not found. Saving empty list to file.')\n",
    "    \n",
    "    \n",
    "    # save an empty list\n",
    "    with open(JSON_FILE,'w') as f:\n",
    "        json.dump([],f)  \n",
    "# If it exists, inform user\n",
    "else:\n",
    "    print(f\"[i] {JSON_FILE} already exists.\")\n"
   ]
  },
  {
   "cell_type": "code",
   "execution_count": 33,
   "id": "19d7e9b2",
   "metadata": {},
   "outputs": [
    {
     "name": "stdout",
     "output_type": "stream",
     "text": [
      "- 0 previous results found.\n"
     ]
    }
   ],
   "source": [
    "## Load previous results and use len of results for offset\n",
    "with open(JSON_FILE,'r') as f:\n",
    "    previous_results = json.load(f)\n",
    "    \n",
    "## set offset based on previous results\n",
    "n_results = len(previous_results)\n",
    "print(f'- {n_results} previous results found.')\n"
   ]
  },
  {
   "cell_type": "code",
   "execution_count": 34,
   "id": "d011f0a5",
   "metadata": {},
   "outputs": [
    {
     "data": {
      "text/plain": [
       "dict_keys(['businesses', 'total', 'region'])"
      ]
     },
     "execution_count": 34,
     "metadata": {},
     "output_type": "execute_result"
    }
   ],
   "source": [
    "# use our yelp_api variable's search_query method to perform our API call\n",
    "results = yelp_api.search_query(location='New York, NY 10002',\n",
    "                                term='Indian',\n",
    "                               offset=n_results)\n",
    "results.keys()"
   ]
  },
  {
   "cell_type": "code",
   "execution_count": 35,
   "id": "73170fc0",
   "metadata": {},
   "outputs": [
    {
     "data": {
      "text/plain": [
       "110"
      ]
     },
     "execution_count": 35,
     "metadata": {},
     "output_type": "execute_result"
    }
   ],
   "source": [
    "## How many results total?\n",
    "total_results = results['total']\n",
    "total_results\n"
   ]
  },
  {
   "cell_type": "code",
   "execution_count": 36,
   "id": "31064367",
   "metadata": {},
   "outputs": [
    {
     "data": {
      "text/plain": [
       "20"
      ]
     },
     "execution_count": 36,
     "metadata": {},
     "output_type": "execute_result"
    }
   ],
   "source": [
    "## How many did we get the details for?\n",
    "results_per_page = len(results['businesses'])\n",
    "results_per_page"
   ]
  },
  {
   "cell_type": "code",
   "execution_count": 37,
   "id": "da298051",
   "metadata": {},
   "outputs": [
    {
     "data": {
      "text/plain": [
       "6"
      ]
     },
     "execution_count": 37,
     "metadata": {},
     "output_type": "execute_result"
    }
   ],
   "source": [
    "# Import additional packages for controlling our loop\n",
    "import time, math\n",
    "# Use math.ceil to round up for the total number of pages of results.\n",
    "n_pages = math.ceil((results['total']-n_results)/ results_per_page)\n",
    "n_pages"
   ]
  },
  {
   "cell_type": "code",
   "execution_count": 38,
   "id": "73a1c35b",
   "metadata": {},
   "outputs": [],
   "source": [
    "# join new results with old list with extend and save to file\n",
    "previous_results.extend(results['businesses'])  \n",
    "with open(JSON_FILE,'w') as f:\n",
    "     json.dump(previous_results,f)\n"
   ]
  },
  {
   "cell_type": "code",
   "execution_count": 40,
   "id": "c41a78a3",
   "metadata": {},
   "outputs": [
    {
     "name": "stdout",
     "output_type": "stream",
     "text": [
      "Requirement already satisfied: tqdm in /Users/christinab/opt/anaconda3/envs/dojo-env/lib/python3.8/site-packages (4.64.1)\r\n"
     ]
    }
   ],
   "source": [
    "# set up a progress bar for your loop \n",
    "!pip install tqdm"
   ]
  },
  {
   "cell_type": "code",
   "execution_count": 41,
   "id": "9e3502d4",
   "metadata": {},
   "outputs": [
    {
     "data": {
      "application/vnd.jupyter.widget-view+json": {
       "model_id": "8d8a7bc480574952b972709a741a71bf",
       "version_major": 2,
       "version_minor": 0
      },
      "text/plain": [
       "  0%|          | 0/6 [00:00<?, ?it/s]"
      ]
     },
     "metadata": {},
     "output_type": "display_data"
    }
   ],
   "source": [
    "from tqdm.notebook import tqdm_notebook\n",
    "import time\n",
    "for i in tqdm_notebook(range(n_pages)):\n",
    "    # adds 200 ms pause\n",
    "    time.sleep(.2) \n"
   ]
  },
  {
   "cell_type": "code",
   "execution_count": 43,
   "id": "7f40487a",
   "metadata": {},
   "outputs": [
    {
     "data": {
      "application/vnd.jupyter.widget-view+json": {
       "model_id": "eac092c7333f40f4917a13e313a2d61c",
       "version_major": 2,
       "version_minor": 0
      },
      "text/plain": [
       "  0%|          | 0/6 [00:00<?, ?it/s]"
      ]
     },
     "metadata": {},
     "output_type": "display_data"
    }
   ],
   "source": [
    "for i in tqdm_notebook( range(1,n_pages+1)):\n",
    "    \n",
    "    ## Read in results in progress file and check the length\n",
    "    with open(JSON_FILE, 'r') as f:\n",
    "        previous_results = json.load(f)\n",
    "    ## save number of results for to use as offset\n",
    "    n_results = len(previous_results)\n",
    "    ## use n_results as the OFFSET \n",
    "    results = yelp_api.search_query(location='New York, NY 10002',\n",
    "                                    term='Indian', \n",
    "                                    offset=n_results)\n",
    "    \n",
    "    ## append new results and save to file\n",
    "    previous_results.extend(results['businesses'])\n",
    "    \n",
    "    with open(JSON_FILE,'w') as f:\n",
    "        json.dump(previous_results,f)\n",
    "    \n",
    "    # add a 200ms pause\n",
    "    time.sleep(.2)\n",
    "\n"
   ]
  },
  {
   "cell_type": "code",
   "execution_count": 44,
   "id": "c69104c8",
   "metadata": {},
   "outputs": [
    {
     "data": {
      "text/html": [
       "<div>\n",
       "<style scoped>\n",
       "    .dataframe tbody tr th:only-of-type {\n",
       "        vertical-align: middle;\n",
       "    }\n",
       "\n",
       "    .dataframe tbody tr th {\n",
       "        vertical-align: top;\n",
       "    }\n",
       "\n",
       "    .dataframe thead th {\n",
       "        text-align: right;\n",
       "    }\n",
       "</style>\n",
       "<table border=\"1\" class=\"dataframe\">\n",
       "  <thead>\n",
       "    <tr style=\"text-align: right;\">\n",
       "      <th></th>\n",
       "      <th>id</th>\n",
       "      <th>alias</th>\n",
       "      <th>name</th>\n",
       "      <th>image_url</th>\n",
       "      <th>is_closed</th>\n",
       "      <th>url</th>\n",
       "      <th>review_count</th>\n",
       "      <th>categories</th>\n",
       "      <th>rating</th>\n",
       "      <th>coordinates</th>\n",
       "      <th>transactions</th>\n",
       "      <th>price</th>\n",
       "      <th>location</th>\n",
       "      <th>phone</th>\n",
       "      <th>display_phone</th>\n",
       "      <th>distance</th>\n",
       "    </tr>\n",
       "  </thead>\n",
       "  <tbody>\n",
       "    <tr>\n",
       "      <th>0</th>\n",
       "      <td>Txm8KtUh9Mn2E7980jTr5g</td>\n",
       "      <td>dhamaka-new-york</td>\n",
       "      <td>Dhamaka</td>\n",
       "      <td>https://s3-media4.fl.yelpcdn.com/bphoto/O7stEz...</td>\n",
       "      <td>False</td>\n",
       "      <td>https://www.yelp.com/biz/dhamaka-new-york?adju...</td>\n",
       "      <td>293</td>\n",
       "      <td>[{'alias': 'indpak', 'title': 'Indian'}]</td>\n",
       "      <td>4.0</td>\n",
       "      <td>{'latitude': 40.7180658, 'longitude': -73.9881...</td>\n",
       "      <td>[delivery]</td>\n",
       "      <td>$$$</td>\n",
       "      <td>{'address1': '119 Delancey St', 'address2': 'E...</td>\n",
       "      <td>+12122048616</td>\n",
       "      <td>(212) 204-8616</td>\n",
       "      <td>271.065740</td>\n",
       "    </tr>\n",
       "    <tr>\n",
       "      <th>1</th>\n",
       "      <td>_7BGw3YFNOTzP1Www3zB7g</td>\n",
       "      <td>mughlai-grill-new-york</td>\n",
       "      <td>Mughlai Grill</td>\n",
       "      <td>https://s3-media3.fl.yelpcdn.com/bphoto/R0MIGO...</td>\n",
       "      <td>False</td>\n",
       "      <td>https://www.yelp.com/biz/mughlai-grill-new-yor...</td>\n",
       "      <td>471</td>\n",
       "      <td>[{'alias': 'indpak', 'title': 'Indian'}]</td>\n",
       "      <td>4.5</td>\n",
       "      <td>{'latitude': 40.7210905, 'longitude': -73.9840...</td>\n",
       "      <td>[delivery, pickup, restaurant_reservation]</td>\n",
       "      <td>$$</td>\n",
       "      <td>{'address1': '6 Clinton St', 'address2': '', '...</td>\n",
       "      <td>+12125332828</td>\n",
       "      <td>(212) 533-2828</td>\n",
       "      <td>512.531279</td>\n",
       "    </tr>\n",
       "    <tr>\n",
       "      <th>2</th>\n",
       "      <td>Xqk91WuhMeYS4pedccUYgA</td>\n",
       "      <td>gazab-new-york</td>\n",
       "      <td>Gazab</td>\n",
       "      <td>https://s3-media3.fl.yelpcdn.com/bphoto/AuOMEQ...</td>\n",
       "      <td>False</td>\n",
       "      <td>https://www.yelp.com/biz/gazab-new-york?adjust...</td>\n",
       "      <td>157</td>\n",
       "      <td>[{'alias': 'indpak', 'title': 'Indian'}]</td>\n",
       "      <td>4.5</td>\n",
       "      <td>{'latitude': 40.72191, 'longitude': -73.98666}</td>\n",
       "      <td>[delivery, pickup]</td>\n",
       "      <td>NaN</td>\n",
       "      <td>{'address1': '179 Essex St', 'address2': '', '...</td>\n",
       "      <td>+19173882664</td>\n",
       "      <td>(917) 388-2664</td>\n",
       "      <td>597.003167</td>\n",
       "    </tr>\n",
       "    <tr>\n",
       "      <th>3</th>\n",
       "      <td>zyQpS4QrYYB0VKXf7JPUlQ</td>\n",
       "      <td>atithi-indian-cuisine-brooklyn</td>\n",
       "      <td>Atithi Indian Cuisine</td>\n",
       "      <td>https://s3-media1.fl.yelpcdn.com/bphoto/1HW_F-...</td>\n",
       "      <td>False</td>\n",
       "      <td>https://www.yelp.com/biz/atithi-indian-cuisine...</td>\n",
       "      <td>146</td>\n",
       "      <td>[{'alias': 'indpak', 'title': 'Indian'}]</td>\n",
       "      <td>5.0</td>\n",
       "      <td>{'latitude': 40.714765, 'longitude': -73.961606}</td>\n",
       "      <td>[delivery, pickup, restaurant_reservation]</td>\n",
       "      <td>$$</td>\n",
       "      <td>{'address1': '159 Grand St', 'address2': None,...</td>\n",
       "      <td>+17186849192</td>\n",
       "      <td>(718) 684-9192</td>\n",
       "      <td>2029.536488</td>\n",
       "    </tr>\n",
       "    <tr>\n",
       "      <th>4</th>\n",
       "      <td>7DUPGtHqVZHJ3yIufbWLsg</td>\n",
       "      <td>malai-marke-indian-cuisine-new-york</td>\n",
       "      <td>Malai Marke Indian Cuisine</td>\n",
       "      <td>https://s3-media1.fl.yelpcdn.com/bphoto/jKKQcL...</td>\n",
       "      <td>False</td>\n",
       "      <td>https://www.yelp.com/biz/malai-marke-indian-cu...</td>\n",
       "      <td>631</td>\n",
       "      <td>[{'alias': 'indpak', 'title': 'Indian'}]</td>\n",
       "      <td>4.0</td>\n",
       "      <td>{'latitude': 40.726934, 'longitude': -73.98758}</td>\n",
       "      <td>[delivery, pickup]</td>\n",
       "      <td>$$</td>\n",
       "      <td>{'address1': '318 E 6th St', 'address2': None,...</td>\n",
       "      <td>+12127777729</td>\n",
       "      <td>(212) 777-7729</td>\n",
       "      <td>1159.430082</td>\n",
       "    </tr>\n",
       "  </tbody>\n",
       "</table>\n",
       "</div>"
      ],
      "text/plain": [
       "                       id                                alias  \\\n",
       "0  Txm8KtUh9Mn2E7980jTr5g                     dhamaka-new-york   \n",
       "1  _7BGw3YFNOTzP1Www3zB7g               mughlai-grill-new-york   \n",
       "2  Xqk91WuhMeYS4pedccUYgA                       gazab-new-york   \n",
       "3  zyQpS4QrYYB0VKXf7JPUlQ       atithi-indian-cuisine-brooklyn   \n",
       "4  7DUPGtHqVZHJ3yIufbWLsg  malai-marke-indian-cuisine-new-york   \n",
       "\n",
       "                         name  \\\n",
       "0                     Dhamaka   \n",
       "1               Mughlai Grill   \n",
       "2                       Gazab   \n",
       "3       Atithi Indian Cuisine   \n",
       "4  Malai Marke Indian Cuisine   \n",
       "\n",
       "                                           image_url  is_closed  \\\n",
       "0  https://s3-media4.fl.yelpcdn.com/bphoto/O7stEz...      False   \n",
       "1  https://s3-media3.fl.yelpcdn.com/bphoto/R0MIGO...      False   \n",
       "2  https://s3-media3.fl.yelpcdn.com/bphoto/AuOMEQ...      False   \n",
       "3  https://s3-media1.fl.yelpcdn.com/bphoto/1HW_F-...      False   \n",
       "4  https://s3-media1.fl.yelpcdn.com/bphoto/jKKQcL...      False   \n",
       "\n",
       "                                                 url  review_count  \\\n",
       "0  https://www.yelp.com/biz/dhamaka-new-york?adju...           293   \n",
       "1  https://www.yelp.com/biz/mughlai-grill-new-yor...           471   \n",
       "2  https://www.yelp.com/biz/gazab-new-york?adjust...           157   \n",
       "3  https://www.yelp.com/biz/atithi-indian-cuisine...           146   \n",
       "4  https://www.yelp.com/biz/malai-marke-indian-cu...           631   \n",
       "\n",
       "                                 categories  rating  \\\n",
       "0  [{'alias': 'indpak', 'title': 'Indian'}]     4.0   \n",
       "1  [{'alias': 'indpak', 'title': 'Indian'}]     4.5   \n",
       "2  [{'alias': 'indpak', 'title': 'Indian'}]     4.5   \n",
       "3  [{'alias': 'indpak', 'title': 'Indian'}]     5.0   \n",
       "4  [{'alias': 'indpak', 'title': 'Indian'}]     4.0   \n",
       "\n",
       "                                         coordinates  \\\n",
       "0  {'latitude': 40.7180658, 'longitude': -73.9881...   \n",
       "1  {'latitude': 40.7210905, 'longitude': -73.9840...   \n",
       "2     {'latitude': 40.72191, 'longitude': -73.98666}   \n",
       "3   {'latitude': 40.714765, 'longitude': -73.961606}   \n",
       "4    {'latitude': 40.726934, 'longitude': -73.98758}   \n",
       "\n",
       "                                 transactions price  \\\n",
       "0                                  [delivery]   $$$   \n",
       "1  [delivery, pickup, restaurant_reservation]    $$   \n",
       "2                          [delivery, pickup]   NaN   \n",
       "3  [delivery, pickup, restaurant_reservation]    $$   \n",
       "4                          [delivery, pickup]    $$   \n",
       "\n",
       "                                            location         phone  \\\n",
       "0  {'address1': '119 Delancey St', 'address2': 'E...  +12122048616   \n",
       "1  {'address1': '6 Clinton St', 'address2': '', '...  +12125332828   \n",
       "2  {'address1': '179 Essex St', 'address2': '', '...  +19173882664   \n",
       "3  {'address1': '159 Grand St', 'address2': None,...  +17186849192   \n",
       "4  {'address1': '318 E 6th St', 'address2': None,...  +12127777729   \n",
       "\n",
       "    display_phone     distance  \n",
       "0  (212) 204-8616   271.065740  \n",
       "1  (212) 533-2828   512.531279  \n",
       "2  (917) 388-2664   597.003167  \n",
       "3  (718) 684-9192  2029.536488  \n",
       "4  (212) 777-7729  1159.430082  "
      ]
     },
     "metadata": {},
     "output_type": "display_data"
    },
    {
     "data": {
      "text/html": [
       "<div>\n",
       "<style scoped>\n",
       "    .dataframe tbody tr th:only-of-type {\n",
       "        vertical-align: middle;\n",
       "    }\n",
       "\n",
       "    .dataframe tbody tr th {\n",
       "        vertical-align: top;\n",
       "    }\n",
       "\n",
       "    .dataframe thead th {\n",
       "        text-align: right;\n",
       "    }\n",
       "</style>\n",
       "<table border=\"1\" class=\"dataframe\">\n",
       "  <thead>\n",
       "    <tr style=\"text-align: right;\">\n",
       "      <th></th>\n",
       "      <th>id</th>\n",
       "      <th>alias</th>\n",
       "      <th>name</th>\n",
       "      <th>image_url</th>\n",
       "      <th>is_closed</th>\n",
       "      <th>url</th>\n",
       "      <th>review_count</th>\n",
       "      <th>categories</th>\n",
       "      <th>rating</th>\n",
       "      <th>coordinates</th>\n",
       "      <th>transactions</th>\n",
       "      <th>price</th>\n",
       "      <th>location</th>\n",
       "      <th>phone</th>\n",
       "      <th>display_phone</th>\n",
       "      <th>distance</th>\n",
       "    </tr>\n",
       "  </thead>\n",
       "  <tbody>\n",
       "    <tr>\n",
       "      <th>105</th>\n",
       "      <td>WBJLoLeRSSzRDrzOv5IRng</td>\n",
       "      <td>sonali-indian-restaurant-new-york</td>\n",
       "      <td>Sonali Indian Restaurant</td>\n",
       "      <td>https://s3-media3.fl.yelpcdn.com/bphoto/0_OtiR...</td>\n",
       "      <td>False</td>\n",
       "      <td>https://www.yelp.com/biz/sonali-indian-restaur...</td>\n",
       "      <td>3</td>\n",
       "      <td>[{'alias': 'indpak', 'title': 'Indian'}]</td>\n",
       "      <td>2.5</td>\n",
       "      <td>{'latitude': 40.7266693115234, 'longitude': -7...</td>\n",
       "      <td>[]</td>\n",
       "      <td>NaN</td>\n",
       "      <td>{'address1': '326 E 6th St', 'address2': '', '...</td>\n",
       "      <td>+12125057517</td>\n",
       "      <td>(212) 505-7517</td>\n",
       "      <td>1133.773854</td>\n",
       "    </tr>\n",
       "    <tr>\n",
       "      <th>106</th>\n",
       "      <td>g8i7ZoTri1fUGkaIM6fP9A</td>\n",
       "      <td>souen-new-york-2</td>\n",
       "      <td>Souen</td>\n",
       "      <td>https://s3-media4.fl.yelpcdn.com/bphoto/X9Guht...</td>\n",
       "      <td>False</td>\n",
       "      <td>https://www.yelp.com/biz/souen-new-york-2?adju...</td>\n",
       "      <td>350</td>\n",
       "      <td>[{'alias': 'japanese', 'title': 'Japanese'}, {...</td>\n",
       "      <td>3.5</td>\n",
       "      <td>{'latitude': 40.7266693115234, 'longitude': -7...</td>\n",
       "      <td>[delivery, pickup]</td>\n",
       "      <td>$$</td>\n",
       "      <td>{'address1': '326 E 6th St', 'address2': '', '...</td>\n",
       "      <td>+12123881155</td>\n",
       "      <td>(212) 388-1155</td>\n",
       "      <td>1133.708444</td>\n",
       "    </tr>\n",
       "    <tr>\n",
       "      <th>107</th>\n",
       "      <td>rPqY0-3Ij3KMLEFvB730vw</td>\n",
       "      <td>parantha-alley-new-york-2</td>\n",
       "      <td>Parantha Alley</td>\n",
       "      <td>https://s3-media3.fl.yelpcdn.com/bphoto/T_Yv_w...</td>\n",
       "      <td>False</td>\n",
       "      <td>https://www.yelp.com/biz/parantha-alley-new-yo...</td>\n",
       "      <td>1</td>\n",
       "      <td>[{'alias': 'indpak', 'title': 'Indian'}, {'ali...</td>\n",
       "      <td>1.0</td>\n",
       "      <td>{'latitude': 40.72664, 'longitude': -73.99202}</td>\n",
       "      <td>[]</td>\n",
       "      <td>NaN</td>\n",
       "      <td>{'address1': '348 Bowery', 'address2': None, '...</td>\n",
       "      <td>+12124750850</td>\n",
       "      <td>(212) 475-0850</td>\n",
       "      <td>1237.820868</td>\n",
       "    </tr>\n",
       "    <tr>\n",
       "      <th>108</th>\n",
       "      <td>pzVUUB9bXZMK8KvRLOoUWg</td>\n",
       "      <td>kiran-continental-indian-cuisine-new-york</td>\n",
       "      <td>Kiran Continental Indian Cuisine</td>\n",
       "      <td></td>\n",
       "      <td>False</td>\n",
       "      <td>https://www.yelp.com/biz/kiran-continental-ind...</td>\n",
       "      <td>1</td>\n",
       "      <td>[{'alias': 'indpak', 'title': 'Indian'}]</td>\n",
       "      <td>3.0</td>\n",
       "      <td>{'latitude': 40.71463, 'longitude': -74.00752}</td>\n",
       "      <td>[delivery, pickup]</td>\n",
       "      <td>$$</td>\n",
       "      <td>{'address1': '94 Chambers St', 'address2': '',...</td>\n",
       "      <td>+12127324893</td>\n",
       "      <td>(212) 732-4893</td>\n",
       "      <td>1868.279554</td>\n",
       "    </tr>\n",
       "    <tr>\n",
       "      <th>109</th>\n",
       "      <td>0jqs32xyAioVbz7BBzrO6A</td>\n",
       "      <td>chinese-dhaba-new-york</td>\n",
       "      <td>Chinese Dhaba</td>\n",
       "      <td></td>\n",
       "      <td>False</td>\n",
       "      <td>https://www.yelp.com/biz/chinese-dhaba-new-yor...</td>\n",
       "      <td>3</td>\n",
       "      <td>[{'alias': 'indpak', 'title': 'Indian'}, {'ali...</td>\n",
       "      <td>2.0</td>\n",
       "      <td>{'latitude': 40.71469, 'longitude': -74.00768}</td>\n",
       "      <td>[delivery, pickup]</td>\n",
       "      <td>NaN</td>\n",
       "      <td>{'address1': '98 Chambers St', 'address2': Non...</td>\n",
       "      <td>+19292658135</td>\n",
       "      <td>(929) 265-8135</td>\n",
       "      <td>1887.562220</td>\n",
       "    </tr>\n",
       "  </tbody>\n",
       "</table>\n",
       "</div>"
      ],
      "text/plain": [
       "                         id                                      alias  \\\n",
       "105  WBJLoLeRSSzRDrzOv5IRng          sonali-indian-restaurant-new-york   \n",
       "106  g8i7ZoTri1fUGkaIM6fP9A                           souen-new-york-2   \n",
       "107  rPqY0-3Ij3KMLEFvB730vw                  parantha-alley-new-york-2   \n",
       "108  pzVUUB9bXZMK8KvRLOoUWg  kiran-continental-indian-cuisine-new-york   \n",
       "109  0jqs32xyAioVbz7BBzrO6A                     chinese-dhaba-new-york   \n",
       "\n",
       "                                 name  \\\n",
       "105          Sonali Indian Restaurant   \n",
       "106                             Souen   \n",
       "107                    Parantha Alley   \n",
       "108  Kiran Continental Indian Cuisine   \n",
       "109                     Chinese Dhaba   \n",
       "\n",
       "                                             image_url  is_closed  \\\n",
       "105  https://s3-media3.fl.yelpcdn.com/bphoto/0_OtiR...      False   \n",
       "106  https://s3-media4.fl.yelpcdn.com/bphoto/X9Guht...      False   \n",
       "107  https://s3-media3.fl.yelpcdn.com/bphoto/T_Yv_w...      False   \n",
       "108                                                         False   \n",
       "109                                                         False   \n",
       "\n",
       "                                                   url  review_count  \\\n",
       "105  https://www.yelp.com/biz/sonali-indian-restaur...             3   \n",
       "106  https://www.yelp.com/biz/souen-new-york-2?adju...           350   \n",
       "107  https://www.yelp.com/biz/parantha-alley-new-yo...             1   \n",
       "108  https://www.yelp.com/biz/kiran-continental-ind...             1   \n",
       "109  https://www.yelp.com/biz/chinese-dhaba-new-yor...             3   \n",
       "\n",
       "                                            categories  rating  \\\n",
       "105           [{'alias': 'indpak', 'title': 'Indian'}]     2.5   \n",
       "106  [{'alias': 'japanese', 'title': 'Japanese'}, {...     3.5   \n",
       "107  [{'alias': 'indpak', 'title': 'Indian'}, {'ali...     1.0   \n",
       "108           [{'alias': 'indpak', 'title': 'Indian'}]     3.0   \n",
       "109  [{'alias': 'indpak', 'title': 'Indian'}, {'ali...     2.0   \n",
       "\n",
       "                                           coordinates        transactions  \\\n",
       "105  {'latitude': 40.7266693115234, 'longitude': -7...                  []   \n",
       "106  {'latitude': 40.7266693115234, 'longitude': -7...  [delivery, pickup]   \n",
       "107     {'latitude': 40.72664, 'longitude': -73.99202}                  []   \n",
       "108     {'latitude': 40.71463, 'longitude': -74.00752}  [delivery, pickup]   \n",
       "109     {'latitude': 40.71469, 'longitude': -74.00768}  [delivery, pickup]   \n",
       "\n",
       "    price                                           location         phone  \\\n",
       "105   NaN  {'address1': '326 E 6th St', 'address2': '', '...  +12125057517   \n",
       "106    $$  {'address1': '326 E 6th St', 'address2': '', '...  +12123881155   \n",
       "107   NaN  {'address1': '348 Bowery', 'address2': None, '...  +12124750850   \n",
       "108    $$  {'address1': '94 Chambers St', 'address2': '',...  +12127324893   \n",
       "109   NaN  {'address1': '98 Chambers St', 'address2': Non...  +19292658135   \n",
       "\n",
       "      display_phone     distance  \n",
       "105  (212) 505-7517  1133.773854  \n",
       "106  (212) 388-1155  1133.708444  \n",
       "107  (212) 475-0850  1237.820868  \n",
       "108  (212) 732-4893  1868.279554  \n",
       "109  (929) 265-8135  1887.562220  "
      ]
     },
     "metadata": {},
     "output_type": "display_data"
    }
   ],
   "source": [
    "# load final results\n",
    "final_df = pd.read_json(JSON_FILE)\n",
    "display(final_df.head(), final_df.tail())"
   ]
  },
  {
   "cell_type": "code",
   "execution_count": 47,
   "id": "07887d4d",
   "metadata": {},
   "outputs": [
    {
     "data": {
      "text/plain": [
       "1"
      ]
     },
     "execution_count": 47,
     "metadata": {},
     "output_type": "execute_result"
    }
   ],
   "source": [
    "# check for duplicates \n",
    "final_df.duplicated(subset='id').sum()"
   ]
  },
  {
   "cell_type": "code",
   "execution_count": 48,
   "id": "d23e619f",
   "metadata": {},
   "outputs": [
    {
     "data": {
      "text/plain": [
       "0"
      ]
     },
     "execution_count": 48,
     "metadata": {},
     "output_type": "execute_result"
    }
   ],
   "source": [
    "# drop duplicated ids and confirm there is no more \n",
    "final_df = final_df.drop_duplicates(subset='id')\n",
    "final_df.duplicated(subset='id').sum()"
   ]
  },
  {
   "cell_type": "code",
   "execution_count": null,
   "id": "865b16da",
   "metadata": {},
   "outputs": [],
   "source": []
  }
 ],
 "metadata": {
  "kernelspec": {
   "display_name": "Python (dojo-env)",
   "language": "python",
   "name": "dojo-env"
  },
  "language_info": {
   "codemirror_mode": {
    "name": "ipython",
    "version": 3
   },
   "file_extension": ".py",
   "mimetype": "text/x-python",
   "name": "python",
   "nbconvert_exporter": "python",
   "pygments_lexer": "ipython3",
   "version": "3.8.13"
  },
  "toc": {
   "base_numbering": 1,
   "nav_menu": {},
   "number_sections": true,
   "sideBar": true,
   "skip_h1_title": false,
   "title_cell": "Table of Contents",
   "title_sidebar": "Contents",
   "toc_cell": false,
   "toc_position": {},
   "toc_section_display": true,
   "toc_window_display": false
  }
 },
 "nbformat": 4,
 "nbformat_minor": 5
}
